{
 "cells": [
  {
   "cell_type": "code",
   "execution_count": 12,
   "metadata": {},
   "outputs": [
    {
     "data": {
      "text/plain": [
       "array([12, 13, 14, 15, 16, 17, 18, 19, 20, 21, 22, 23])"
      ]
     },
     "execution_count": 12,
     "metadata": {},
     "output_type": "execute_result"
    }
   ],
   "source": [
    "# Task 1\n",
    "\n",
    "import numpy as np\n",
    "\n",
    "a = np.arange(12, 24)\n",
    "a"
   ]
  },
  {
   "cell_type": "code",
   "execution_count": 22,
   "metadata": {},
   "outputs": [
    {
     "data": {
      "text/plain": [
       "array([[12, 13, 14, 15, 16, 17],\n",
       "       [18, 19, 20, 21, 22, 23]])"
      ]
     },
     "execution_count": 22,
     "metadata": {},
     "output_type": "execute_result"
    }
   ],
   "source": [
    "#Task 2\n",
    "\n",
    "np.reshape(a, (12, 1))\n",
    "np.reshape(a, (6, 2))\n",
    "np.reshape(a, (4, 3))\n",
    "np.reshape(a, (3, 4))\n",
    "np.reshape(a, (2, 6))"
   ]
  },
  {
   "cell_type": "code",
   "execution_count": 30,
   "metadata": {},
   "outputs": [
    {
     "data": {
      "text/plain": [
       "array([[12, 13, 14, 15],\n",
       "       [16, 17, 18, 19],\n",
       "       [20, 21, 22, 23]])"
      ]
     },
     "execution_count": 30,
     "metadata": {},
     "output_type": "execute_result"
    }
   ],
   "source": [
    "# Task 3 \n",
    "\n",
    "np.reshape(a, (12, -1))\n",
    "np.reshape(a, (6, -1))\n",
    "np.reshape(a, (4, -1))\n",
    "np.reshape(a, (-1, 3))\n",
    "np.reshape(a, (-1, 4))"
   ]
  },
  {
   "cell_type": "code",
   "execution_count": 44,
   "metadata": {},
   "outputs": [
    {
     "name": "stdout",
     "output_type": "stream",
     "text": [
      "Размерность у массива = 1\n"
     ]
    }
   ],
   "source": [
    "# Task 4\n",
    "\n",
    "b = np.reshape(a, (12, 1))\n",
    "b[5]\n",
    "print('Размерность у массива = 1')"
   ]
  },
  {
   "cell_type": "code",
   "execution_count": 55,
   "metadata": {},
   "outputs": [
    {
     "name": "stdout",
     "output_type": "stream",
     "text": [
      "True\n"
     ]
    }
   ],
   "source": [
    "# Task 5\n",
    "\n",
    "c = np.random.randn(3, 4)\n",
    "if c.size == np.reshape(c, (1, -1)).size:\n",
    "    print('True')\n",
    "else:\n",
    "    print('False')"
   ]
  },
  {
   "cell_type": "code",
   "execution_count": 62,
   "metadata": {},
   "outputs": [
    {
     "data": {
      "text/plain": [
       "array([20, 18, 16, 14, 12, 10,  8,  6,  4,  2])"
      ]
     },
     "execution_count": 62,
     "metadata": {},
     "output_type": "execute_result"
    }
   ],
   "source": [
    "# Task 6\n",
    "\n",
    "a = np.arange(20, 0, -2)\n",
    "a"
   ]
  },
  {
   "cell_type": "code",
   "execution_count": 71,
   "metadata": {},
   "outputs": [
    {
     "name": "stdout",
     "output_type": "stream",
     "text": [
      "Разница только в выдаче массива. В случае а - это кортеж. В случае b - кортеж в кортеже. А по сути и там и там одномерный массив\n"
     ]
    }
   ],
   "source": [
    "# Task 7\n",
    "\n",
    "b = np.arange(20, 1, -2)\n",
    "np.reshape(b, (1, 10))\n",
    "print('Разница только в выдаче массива. В случае а - это кортеж. В случае b - кортеж в кортеже. А по сути и там и там одномерный массив')"
   ]
  },
  {
   "cell_type": "code",
   "execution_count": 80,
   "metadata": {},
   "outputs": [
    {
     "name": "stdout",
     "output_type": "stream",
     "text": [
      "True\n"
     ]
    }
   ],
   "source": [
    "# Task 8\n",
    "\n",
    "a = np.zeros((2, 2))\n",
    "b = np.ones((3, 2))\n",
    "v = np.vstack((a, b))\n",
    "if v.size == 10:\n",
    "    print('True')\n",
    "else:\n",
    "    print('False')"
   ]
  },
  {
   "cell_type": "code",
   "execution_count": 106,
   "metadata": {},
   "outputs": [
    {
     "name": "stdout",
     "output_type": "stream",
     "text": [
      "Обратную матрицу вычислить не получится, потому что определить равен 0.0. Размер матрицы равен 16\n"
     ]
    }
   ],
   "source": [
    "# Task 9\n",
    "\n",
    "a = np.arange(0, 12)\n",
    "A = np.reshape(a, (4, 3))\n",
    "At = A.T\n",
    "B = A.dot(At)\n",
    "\n",
    "print(f'Обратную матрицу вычислить не получится, потому что определить равен {np.linalg.det(B)}. Размер матрицы равен {B.size}')"
   ]
  },
  {
   "cell_type": "code",
   "execution_count": 128,
   "metadata": {},
   "outputs": [
    {
     "data": {
      "text/plain": [
       "(array([0.37454012, 0.95071431, 0.73199394, 0.59865848, 0.15601864]),\n",
       " array([0.37454012, 0.95071431, 0.73199394]))"
      ]
     },
     "execution_count": 128,
     "metadata": {},
     "output_type": "execute_result"
    }
   ],
   "source": [
    "# Task 10\n",
    "\n",
    "np.random.seed(42)\n",
    "\n",
    "a = np.random.rand(5)\n",
    "\n",
    "np.random.seed(42)\n",
    "\n",
    "b = np.random.rand(3)\n",
    "\n",
    "a, b"
   ]
  },
  {
   "cell_type": "code",
   "execution_count": 136,
   "metadata": {},
   "outputs": [
    {
     "data": {
      "text/plain": [
       "array([ 0,  5,  2, 14, 12,  7,  4, 10, 11,  9, 13, 15,  3,  1,  6,  8])"
      ]
     },
     "execution_count": 136,
     "metadata": {},
     "output_type": "execute_result"
    }
   ],
   "source": [
    "# Task 11\n",
    "\n",
    "a = np.arange(0, 16)\n",
    "\n",
    "c = np.random.choice(a, 16, replace=False)\n",
    "c"
   ]
  },
  {
   "cell_type": "code",
   "execution_count": 162,
   "metadata": {},
   "outputs": [
    {
     "name": "stdout",
     "output_type": "stream",
     "text": [
      "Определитель матрицы равен: -83972000.00000007\n",
      "Ранг матрицы равен: 4\n",
      "Обратная матрица: [[-0.01161101  0.01884676 -0.01498357  0.00847425]\n",
      " [ 0.02029939 -0.02462749  0.03876173 -0.03156004]\n",
      " [-0.00806888 -0.00684943  0.00654742  0.00140904]\n",
      " [ 0.00061544  0.0103282  -0.01562426  0.01114467]]\n"
     ]
    }
   ],
   "source": [
    "# Task 12\n",
    "\n",
    "C = np.reshape(c, (4, 4))\n",
    "C = C * 10\n",
    "D = B + C\n",
    "\n",
    "\n",
    "print(f'Определитель матрицы равен: {np.linalg.det(D)}')\n",
    "print(f'Ранг матрицы равен: {np.linalg.matrix_rank(D)}')\n",
    "print(f'Обратная матрица: {np.linalg.inv(D)}')"
   ]
  },
  {
   "cell_type": "code",
   "execution_count": null,
   "metadata": {},
   "outputs": [],
   "source": [
    "# Task 13\n",
    "\n"
   ]
  }
 ],
 "metadata": {
  "kernelspec": {
   "display_name": "Python 3",
   "language": "python",
   "name": "python3"
  },
  "language_info": {
   "codemirror_mode": {
    "name": "ipython",
    "version": 3
   },
   "file_extension": ".py",
   "mimetype": "text/x-python",
   "name": "python",
   "nbconvert_exporter": "python",
   "pygments_lexer": "ipython3",
   "version": "3.8.5"
  }
 },
 "nbformat": 4,
 "nbformat_minor": 4
}
