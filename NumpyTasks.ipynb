{
  "nbformat": 4,
  "nbformat_minor": 0,
  "metadata": {
    "colab": {
      "name": "Untitled0.ipynb",
      "provenance": [],
      "collapsed_sections": []
    },
    "kernelspec": {
      "name": "python3",
      "display_name": "Python 3"
    },
    "language_info": {
      "name": "python"
    }
  },
  "cells": [
    {
      "cell_type": "code",
      "metadata": {
        "colab": {
          "base_uri": "https://localhost:8080/"
        },
        "id": "9TpC_4BDCp9F",
        "outputId": "b3f214a1-bce9-4208-88ea-df130f04ed7d"
      },
      "source": [
        "# task 1 \n",
        "import numpy as np\n",
        "\n",
        "a = np.array([[1, 6],\n",
        "             [2, 8],\n",
        "             [3, 11],\n",
        "             [3, 10],\n",
        "             [1, 7]])\n",
        "\n",
        "mean_a = np.mean(a, axis=0)\n",
        "print(mean_a)"
      ],
      "execution_count": 12,
      "outputs": [
        {
          "output_type": "stream",
          "text": [
            "[2.  8.4]\n"
          ],
          "name": "stdout"
        }
      ]
    },
    {
      "cell_type": "code",
      "metadata": {
        "colab": {
          "base_uri": "https://localhost:8080/"
        },
        "id": "UfEBtFW0DXxD",
        "outputId": "2895e827-49cf-463b-ba4d-afeda3e56401"
      },
      "source": [
        "# task 2\n",
        "a_centered = a - mean_a\n",
        "print(a_centered)"
      ],
      "execution_count": 15,
      "outputs": [
        {
          "output_type": "stream",
          "text": [
            "[[-1.  -2.4]\n",
            " [ 0.  -0.4]\n",
            " [ 1.   2.6]\n",
            " [ 1.   1.6]\n",
            " [-1.  -1.4]]\n"
          ],
          "name": "stdout"
        }
      ]
    },
    {
      "cell_type": "code",
      "metadata": {
        "colab": {
          "base_uri": "https://localhost:8080/"
        },
        "id": "NeMaoCOmMQbW",
        "outputId": "c20de57a-f73b-4c7d-b7fe-efc90a4433b6"
      },
      "source": [
        "# task 3\n",
        "a_centered_sp = a_centered[0:, 0] @ a_centered[0:, 1]\n",
        "print(a_centered_sp / (5 - 1))"
      ],
      "execution_count": 20,
      "outputs": [
        {
          "output_type": "stream",
          "text": [
            "2.0\n"
          ],
          "name": "stdout"
        }
      ]
    },
    {
      "cell_type": "code",
      "metadata": {
        "colab": {
          "base_uri": "https://localhost:8080/"
        },
        "id": "vZR4VfxUQGsR",
        "outputId": "d3fb82eb-34a5-42bb-99b9-4b32c418330e"
      },
      "source": [
        "# task 4\n",
        "np.cov(np.transpose(a))"
      ],
      "execution_count": 23,
      "outputs": [
        {
          "output_type": "execute_result",
          "data": {
            "text/plain": [
              "array([[1. , 2. ],\n",
              "       [2. , 4.3]])"
            ]
          },
          "metadata": {
            "tags": []
          },
          "execution_count": 23
        }
      ]
    }
  ]
}